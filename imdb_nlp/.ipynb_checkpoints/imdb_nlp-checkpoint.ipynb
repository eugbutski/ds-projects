{
 "cells": [
  {
   "cell_type": "markdown",
   "id": "45e57589",
   "metadata": {},
   "source": [
    "Link to the dataset [IMDb Movie Reviews](https://www.kaggle.com/ebiswas/imdb-review-dataset \"IMDb Movie Reviews\")."
   ]
  },
  {
   "cell_type": "markdown",
   "id": "9fac38f0-7b45-49bb-9ca4-a8fb05bfcb5d",
   "metadata": {},
   "source": [
    "If some plots are not displayed, take a look through nbviewer [Link to Notebook](https://nbviewer.org/github/eugbutski/ds-projects/blob/b6385c80322bc8177eb369a14a8854ccf40fdf23/imdb_nlp/imdb_nlp.ipynb \"Link to Notebook\")."
   ]
  },
  {
   "cell_type": "markdown",
   "id": "002f6efa-5bba-4ef4-a399-01569e345e68",
   "metadata": {},
   "source": [
    "# imports"
   ]
  },
  {
   "cell_type": "code",
   "execution_count": 1,
   "id": "82da8011-75fd-4a06-b8d6-278ba193e4e3",
   "metadata": {},
   "outputs": [],
   "source": [
    "import zipfile\n",
    "import os\n",
    "import re\n",
    "import string\n",
    "from tqdm import tqdm\n",
    "\n",
    "import pandas as pd\n",
    "import numpy as np\n",
    "\n",
    "import matplotlib.pyplot as plt\n",
    "import seaborn as sns\n",
    "\n",
    "from sklearn.model_selection import train_test_split\n",
    "from sklearn.metrics import classification_report, confusion_matrix, ConfusionMatrixDisplay, roc_auc_score\n",
    "\n",
    "import tensorflow as tf\n",
    "from tensorflow.keras import Sequential, Input\n",
    "from tensorflow.keras.layers import GRU, LSTM, Dense, Embedding, SpatialDropout1D, Bidirectional, GlobalMaxPool1D, Dropout\n",
    "from tensorflow.keras.preprocessing import sequence, text\n",
    "from tensorflow.keras.callbacks import EarlyStopping\n",
    "from tensorflow.keras.utils import to_categorical\n",
    "\n",
    "from transformers import DistilBertTokenizer, TFDistilBertModel"
   ]
  },
  {
   "cell_type": "markdown",
   "id": "d3e22be6",
   "metadata": {},
   "source": [
    "## 1. Preparing the data"
   ]
  },
  {
   "cell_type": "code",
   "execution_count": 2,
   "id": "0ebe3f9e-760f-4a63-8616-6522114c261c",
   "metadata": {},
   "outputs": [],
   "source": [
    "# unzip the .json parts into current directory\n",
    "#with zipfile.ZipFile(\"archive.zip\") as f:\n",
    "    #f.extractall(\".\")"
   ]
  },
  {
   "cell_type": "code",
   "execution_count": 3,
   "id": "35f8d5b3-998e-4e7e-809d-df6089e983f1",
   "metadata": {},
   "outputs": [],
   "source": [
    "# find and concatenate .json files into one big dataframe, avoiding sample-file\n",
    "#files = [f for f in os.listdir(\".\") if f.startswith('part') & f.endswith('.json')]\n",
    "#df = pd.concat(map(pd.read_json, files))"
   ]
  },
  {
   "cell_type": "markdown",
   "id": "65cab5f6-a307-4aef-b79f-d83ba880e533",
   "metadata": {},
   "source": [
    "Taking a sample of 320 000 of rows, in order to potentially achieve around after cleaning 200 000"
   ]
  },
  {
   "cell_type": "code",
   "execution_count": 4,
   "id": "0e61021a-9aef-46da-bc18-8bf91a84de34",
   "metadata": {},
   "outputs": [],
   "source": [
    "#sample = df.sample(n=320000, random_state=147)"
   ]
  },
  {
   "cell_type": "markdown",
   "id": "42bae5bb-880d-420f-acd5-a62ccf33eabc",
   "metadata": {},
   "source": [
    "So let's cut down sample the way, that all movies, which have benn rated more than 30 times are dropped, so that may potentially cause not so high correaltion between the ratings"
   ]
  },
  {
   "cell_type": "code",
   "execution_count": 5,
   "id": "e7ee00aa-6c3a-4917-93a7-9ac14056e6eb",
   "metadata": {},
   "outputs": [],
   "source": [
    "#sample = sample[sample.movie.groupby(sample.movie).transform('count').lt(30)]"
   ]
  },
  {
   "cell_type": "code",
   "execution_count": 5,
   "id": "583cf2f1-2a3f-421e-82e3-34342b059b5b",
   "metadata": {},
   "outputs": [
    {
     "data": {
      "text/plain": [
       "(200166,)"
      ]
     },
     "execution_count": 5,
     "metadata": {},
     "output_type": "execute_result"
    }
   ],
   "source": [
    "sample.rating.dropna().shape"
   ]
  },
  {
   "cell_type": "markdown",
   "id": "ee858f82-0494-407f-b942-2497abdbb332",
   "metadata": {},
   "source": [
    "After dropping NaN, we will get around 200k of reviews"
   ]
  },
  {
   "cell_type": "code",
   "execution_count": 6,
   "id": "0e432421-3653-4aa7-9584-17f720eaeb8b",
   "metadata": {},
   "outputs": [],
   "source": [
    "#sample.dropna(inplace=True)"
   ]
  },
  {
   "cell_type": "code",
   "execution_count": 7,
   "id": "fe82f5cf-1ea0-4b2a-a1aa-9443e7c5798c",
   "metadata": {},
   "outputs": [],
   "source": [
    "#sample = sample[['review_detail','rating']].reset_index(drop=True)"
   ]
  },
  {
   "cell_type": "code",
   "execution_count": 8,
   "id": "a26a1491-41c6-437a-8ff5-a558fb4847ab",
   "metadata": {},
   "outputs": [
    {
     "data": {
      "text/html": [
       "<div>\n",
       "<style scoped>\n",
       "    .dataframe tbody tr th:only-of-type {\n",
       "        vertical-align: middle;\n",
       "    }\n",
       "\n",
       "    .dataframe tbody tr th {\n",
       "        vertical-align: top;\n",
       "    }\n",
       "\n",
       "    .dataframe thead th {\n",
       "        text-align: right;\n",
       "    }\n",
       "</style>\n",
       "<table border=\"1\" class=\"dataframe\">\n",
       "  <thead>\n",
       "    <tr style=\"text-align: right;\">\n",
       "      <th></th>\n",
       "      <th>review_detail</th>\n",
       "      <th>rating</th>\n",
       "    </tr>\n",
       "  </thead>\n",
       "  <tbody>\n",
       "    <tr>\n",
       "      <th>0</th>\n",
       "      <td>Robbie K here with more reviews coming at you ...</td>\n",
       "      <td>6.0</td>\n",
       "    </tr>\n",
       "    <tr>\n",
       "      <th>1</th>\n",
       "      <td>Although fans will still be able to get their ...</td>\n",
       "      <td>4.0</td>\n",
       "    </tr>\n",
       "    <tr>\n",
       "      <th>2</th>\n",
       "      <td>Interesting film comprised mainly of 16 mms ko...</td>\n",
       "      <td>6.0</td>\n",
       "    </tr>\n",
       "    <tr>\n",
       "      <th>3</th>\n",
       "      <td>Rome, September 1943: while the allies commenc...</td>\n",
       "      <td>8.0</td>\n",
       "    </tr>\n",
       "    <tr>\n",
       "      <th>4</th>\n",
       "      <td>The first 90 minutes of Suicide Kings is very ...</td>\n",
       "      <td>6.0</td>\n",
       "    </tr>\n",
       "  </tbody>\n",
       "</table>\n",
       "</div>"
      ],
      "text/plain": [
       "                                       review_detail  rating\n",
       "0  Robbie K here with more reviews coming at you ...     6.0\n",
       "1  Although fans will still be able to get their ...     4.0\n",
       "2  Interesting film comprised mainly of 16 mms ko...     6.0\n",
       "3  Rome, September 1943: while the allies commenc...     8.0\n",
       "4  The first 90 minutes of Suicide Kings is very ...     6.0"
      ]
     },
     "execution_count": 8,
     "metadata": {},
     "output_type": "execute_result"
    }
   ],
   "source": [
    "# To skip all above\n",
    "sample = pd.read_csv('dataset/sample.csv')\n",
    "sample.head()"
   ]
  },
  {
   "cell_type": "code",
   "execution_count": 9,
   "id": "845b3402-3d14-4aa2-9ae4-4b90eea224b2",
   "metadata": {},
   "outputs": [
    {
     "name": "stdout",
     "output_type": "stream",
     "text": [
      "<class 'pandas.core.frame.DataFrame'>\n",
      "RangeIndex: 200166 entries, 0 to 200165\n",
      "Data columns (total 2 columns):\n",
      " #   Column         Non-Null Count   Dtype  \n",
      "---  ------         --------------   -----  \n",
      " 0   review_detail  200166 non-null  object \n",
      " 1   rating         200166 non-null  float64\n",
      "dtypes: float64(1), object(1)\n",
      "memory usage: 3.1+ MB\n"
     ]
    }
   ],
   "source": [
    "sample.info()"
   ]
  },
  {
   "cell_type": "code",
   "execution_count": 11,
   "id": "267e3e72-7ca2-441c-8510-adb0ee959d95",
   "metadata": {},
   "outputs": [],
   "source": [
    "def create_categories(rating):\n",
    "    \"\"\" \n",
    "    Create a target variable, which represents 3 sentiment-classes\n",
    "    0 - is negative, if rating is less or equal than 4\n",
    "    1 - is neutral, if rating is less than or equal 7, but higher than 4 \n",
    "    2 - is positive, if rating is higher than or equal 7 \n",
    "\n",
    "    Args:\n",
    "        rating (float64): movie rating\n",
    "\n",
    "    Returns:\n",
    "        category (int): number of sentiment-class\n",
    "    \"\"\"\n",
    "    category = 0\n",
    "    if rating >= 7:\n",
    "        category = 2 \n",
    "    else:\n",
    "        if rating <= 4:\n",
    "            category = 0\n",
    "        else:\n",
    "            category = 1\n",
    "    return category\n",
    "\n",
    "# define function to clean textual data\n",
    "\n",
    "def clean_text(text):\n",
    "    \"\"\"\n",
    "    Convert text to lowercase, using regex remove square brackets, links,\n",
    "    new lines, punctuation and words containing numbers. Return clean text.\n",
    "\n",
    "    Args:\n",
    "        text (string): text to be cleaned\n",
    "\n",
    "    Returns:\n",
    "        text (string): cleaned text\n",
    "    \"\"\"\n",
    "    text = text.lower()\n",
    "    text = re.sub('\\[.*?\\]', '', text)\n",
    "    text = re.sub('https?://\\S+|www\\.\\S+', '', text)\n",
    "    text = re.sub('<.*?>+', '', text)\n",
    "    text = re.sub('[%s]' % re.escape(string.punctuation), '', text)\n",
    "    text = re.sub('\\n', '', text)\n",
    "    text = re.sub('\\w*\\d\\w*', '', text)\n",
    "    return text"
   ]
  },
  {
   "cell_type": "code",
   "execution_count": 12,
   "id": "723ed58f-c8a3-43f5-95d2-db0474086430",
   "metadata": {},
   "outputs": [],
   "source": [
    "sample['label'] = sample.rating.apply(lambda x: create_categories(x))\n",
    "sample['clean_text'] = sample.review_detail.apply(lambda x: clean_text(x))"
   ]
  },
  {
   "cell_type": "code",
   "execution_count": 13,
   "id": "65e555fc-c44a-47dc-9bc1-6b4c4d24c7a6",
   "metadata": {},
   "outputs": [
    {
     "data": {
      "text/plain": [
       "False"
      ]
     },
     "execution_count": 13,
     "metadata": {},
     "output_type": "execute_result"
    }
   ],
   "source": [
    "sample['clean_text'].isna().any()"
   ]
  },
  {
   "cell_type": "code",
   "execution_count": 14,
   "id": "9a775397-0ddd-427f-8694-7d685e56d842",
   "metadata": {},
   "outputs": [],
   "source": [
    "sample['word_count'] = sample.loc[:, 'clean_text'].apply(lambda x: len([word for word in x.split()]))"
   ]
  },
  {
   "cell_type": "code",
   "execution_count": 15,
   "id": "ff2292fc-9277-49bd-8f32-f74b7a440210",
   "metadata": {},
   "outputs": [
    {
     "name": "stdout",
     "output_type": "stream",
     "text": [
      "Maximal text length: 2519 \n",
      "Minimal text length: 0\n"
     ]
    }
   ],
   "source": [
    "print(f\"Maximal text length: {max(sample.word_count)} \\nMinimal text length: {min(sample.word_count)}\")"
   ]
  },
  {
   "cell_type": "code",
   "execution_count": 16,
   "id": "557f9008-73d5-4090-b8cd-0b322f7ba802",
   "metadata": {},
   "outputs": [
    {
     "data": {
      "text/html": [
       "<div>\n",
       "<style scoped>\n",
       "    .dataframe tbody tr th:only-of-type {\n",
       "        vertical-align: middle;\n",
       "    }\n",
       "\n",
       "    .dataframe tbody tr th {\n",
       "        vertical-align: top;\n",
       "    }\n",
       "\n",
       "    .dataframe thead th {\n",
       "        text-align: right;\n",
       "    }\n",
       "</style>\n",
       "<table border=\"1\" class=\"dataframe\">\n",
       "  <thead>\n",
       "    <tr style=\"text-align: right;\">\n",
       "      <th></th>\n",
       "      <th>review_detail</th>\n",
       "      <th>rating</th>\n",
       "      <th>label</th>\n",
       "      <th>clean_text</th>\n",
       "      <th>word_count</th>\n",
       "    </tr>\n",
       "  </thead>\n",
       "  <tbody>\n",
       "    <tr>\n",
       "      <th>34830</th>\n",
       "      <td>.................................................</td>\n",
       "      <td>10.0</td>\n",
       "      <td>2</td>\n",
       "      <td></td>\n",
       "      <td>0</td>\n",
       "    </tr>\n",
       "    <tr>\n",
       "      <th>46118</th>\n",
       "      <td>Http://nickkaminskysblogspot.blogspot.com/2017...</td>\n",
       "      <td>1.0</td>\n",
       "      <td>0</td>\n",
       "      <td></td>\n",
       "      <td>0</td>\n",
       "    </tr>\n",
       "    <tr>\n",
       "      <th>60933</th>\n",
       "      <td>Iguvivigihkkbkighlcyflhcpyfjgigigufghcydycjvih...</td>\n",
       "      <td>10.0</td>\n",
       "      <td>2</td>\n",
       "      <td></td>\n",
       "      <td>0</td>\n",
       "    </tr>\n",
       "    <tr>\n",
       "      <th>75095</th>\n",
       "      <td>Https://muralidamarajuu.wordpress.com/2018/04/...</td>\n",
       "      <td>9.0</td>\n",
       "      <td>2</td>\n",
       "      <td></td>\n",
       "      <td>0</td>\n",
       "    </tr>\n",
       "    <tr>\n",
       "      <th>110698</th>\n",
       "      <td>Http://nickkaminskysblogspot.blogspot.com/2017...</td>\n",
       "      <td>6.0</td>\n",
       "      <td>1</td>\n",
       "      <td></td>\n",
       "      <td>0</td>\n",
       "    </tr>\n",
       "    <tr>\n",
       "      <th>117327</th>\n",
       "      <td>Meh1234567890bsnxbbxnzkzbxhxkndhxbxvdbskdbnsnx...</td>\n",
       "      <td>8.0</td>\n",
       "      <td>2</td>\n",
       "      <td></td>\n",
       "      <td>0</td>\n",
       "    </tr>\n",
       "    <tr>\n",
       "      <th>131961</th>\n",
       "      <td>145532hjjhftuijjjjdrthhcthj1gjhghjbvffgjjjjfhj...</td>\n",
       "      <td>10.0</td>\n",
       "      <td>2</td>\n",
       "      <td></td>\n",
       "      <td>0</td>\n",
       "    </tr>\n",
       "    <tr>\n",
       "      <th>178697</th>\n",
       "      <td>??????????????????????????????????????????????...</td>\n",
       "      <td>10.0</td>\n",
       "      <td>2</td>\n",
       "      <td></td>\n",
       "      <td>0</td>\n",
       "    </tr>\n",
       "    <tr>\n",
       "      <th>187056</th>\n",
       "      <td>Acting-6/10\\nScript/Writing-4/10\\nCharacters/C...</td>\n",
       "      <td>2.0</td>\n",
       "      <td>0</td>\n",
       "      <td></td>\n",
       "      <td>0</td>\n",
       "    </tr>\n",
       "    <tr>\n",
       "      <th>188153</th>\n",
       "      <td>2008 2009 2010 2011 2012 2013 2014 2015 2016 2...</td>\n",
       "      <td>10.0</td>\n",
       "      <td>2</td>\n",
       "      <td></td>\n",
       "      <td>0</td>\n",
       "    </tr>\n",
       "  </tbody>\n",
       "</table>\n",
       "</div>"
      ],
      "text/plain": [
       "                                            review_detail  rating  label  \\\n",
       "34830   .................................................    10.0      2   \n",
       "46118   Http://nickkaminskysblogspot.blogspot.com/2017...     1.0      0   \n",
       "60933   Iguvivigihkkbkighlcyflhcpyfjgigigufghcydycjvih...    10.0      2   \n",
       "75095   Https://muralidamarajuu.wordpress.com/2018/04/...     9.0      2   \n",
       "110698  Http://nickkaminskysblogspot.blogspot.com/2017...     6.0      1   \n",
       "117327  Meh1234567890bsnxbbxnzkzbxhxkndhxbxvdbskdbnsnx...     8.0      2   \n",
       "131961  145532hjjhftuijjjjdrthhcthj1gjhghjbvffgjjjjfhj...    10.0      2   \n",
       "178697  ??????????????????????????????????????????????...    10.0      2   \n",
       "187056  Acting-6/10\\nScript/Writing-4/10\\nCharacters/C...     2.0      0   \n",
       "188153  2008 2009 2010 2011 2012 2013 2014 2015 2016 2...    10.0      2   \n",
       "\n",
       "          clean_text  word_count  \n",
       "34830                          0  \n",
       "46118                          0  \n",
       "60933                          0  \n",
       "75095                          0  \n",
       "110698                         0  \n",
       "117327                         0  \n",
       "131961                         0  \n",
       "178697                         0  \n",
       "187056                         0  \n",
       "188153                         0  "
      ]
     },
     "execution_count": 16,
     "metadata": {},
     "output_type": "execute_result"
    }
   ],
   "source": [
    "sample[sample.word_count.eq(0)]"
   ]
  },
  {
   "cell_type": "code",
   "execution_count": 17,
   "id": "8f7b6470-e3a0-4bb0-ab3b-a3065f5250c2",
   "metadata": {},
   "outputs": [],
   "source": [
    "sample.drop(sample[sample.word_count.eq(0)].index, inplace=True)"
   ]
  },
  {
   "cell_type": "code",
   "execution_count": 18,
   "id": "4cca32f2-980b-486c-8c0a-38c385b5c192",
   "metadata": {},
   "outputs": [
    {
     "data": {
      "image/png": "[encoded data removed]",
      "text/plain": [
       "<Figure size 648x432 with 1 Axes>"
      ]
     },
     "metadata": {},
     "output_type": "display_data"
    }
   ],
   "source": [
    "with plt.style.context('fivethirtyeight'):\n",
    "    sns.displot(sample, x='word_count', kde=True, height=6, aspect=1.5)\n",
    "    plt.title('Frequency distribution of word count')"
   ]
  },
  {
   "cell_type": "code",
   "execution_count": 19,
   "id": "467214e0",
   "metadata": {},
   "outputs": [
    {
     "data": {
      "text/plain": [
       "0.9369969774935678"
      ]
     },
     "execution_count": 19,
     "metadata": {},
     "output_type": "execute_result"
    }
   ],
   "source": [
    "sample.word_count.lt(512).sum()/200165"
   ]
  },
  {
   "cell_type": "code",
   "execution_count": 22,
   "id": "9356f5d1",
   "metadata": {},
   "outputs": [],
   "source": [
    "for_training = sample[sample.word_count.lt(512)]\n",
    "for_training = for_training[['clean_text', 'label', 'word_count']].reset_index(drop=True)\n",
    "for_training.to_csv('outputs/for_training_lt512.csv', index=False)"
   ]
  },
  {
   "cell_type": "code",
   "execution_count": 23,
   "id": "81a9d26d",
   "metadata": {},
   "outputs": [
    {
     "name": "stdout",
     "output_type": "stream",
     "text": [
      "<class 'pandas.core.frame.DataFrame'>\n",
      "RangeIndex: 187554 entries, 0 to 187553\n",
      "Data columns (total 3 columns):\n",
      " #   Column      Non-Null Count   Dtype \n",
      "---  ------      --------------   ----- \n",
      " 0   clean_text  187554 non-null  object\n",
      " 1   label       187554 non-null  int64 \n",
      " 2   word_count  187554 non-null  int64 \n",
      "dtypes: int64(2), object(1)\n",
      "memory usage: 4.3+ MB\n"
     ]
    }
   ],
   "source": [
    "for_training.info()"
   ]
  },
  {
   "cell_type": "markdown",
   "id": "63ac11ce",
   "metadata": {},
   "source": [
    "## 2. Modelling an ANN with embeddings"
   ]
  },
  {
   "cell_type": "code",
   "execution_count": 2,
   "id": "2099963a-6cc6-4920-884d-77168e8e251b",
   "metadata": {},
   "outputs": [],
   "source": [
    "# Define some constants\n",
    "SEED = 147\n",
    "SPLIT_RATIO = 0.3\n",
    "EPOCHS = 10\n",
    "MAX_LEN = 512 # 512 covers around 94% of the data\n",
    "DIMENSIONS = 300\n",
    "LR = 0.001\n",
    "BATCH_SIZE = 64\n",
    "OUTPUT_DATA = './outputs/'"
   ]
  },
  {
   "cell_type": "code",
   "execution_count": 9,
   "id": "d22a37bc-cd9b-4714-84a8-8506c2b86b7d",
   "metadata": {},
   "outputs": [],
   "source": [
    "X_train, X_test, y_train, y_test = train_test_split(for_training['clean_text'],\n",
    "                                                    for_training['label'],\n",
    "                                                    test_size=SPLIT_RATIO,\n",
    "                                                    stratify=for_training.label,\n",
    "                                                    random_state=SEED)"
   ]
  },
  {
   "cell_type": "code",
   "execution_count": 5,
   "id": "a51a361f-fbc3-4806-bd16-9705e7776ee3",
   "metadata": {},
   "outputs": [],
   "source": [
    "# Using keras tokenizer\n",
    "token = text.Tokenizer(num_words=None)\n",
    "\n",
    "token.fit_on_texts(list(X_train) + list(X_test))\n",
    "X_train_seq = token.texts_to_sequences(X_train)\n",
    "X_test_seq = token.texts_to_sequences(X_test)\n",
    "\n",
    "# Zero padding for the sequences\n",
    "X_train_pad = sequence.pad_sequences(X_train_seq, maxlen=MAX_LEN)\n",
    "X_test_pad = sequence.pad_sequences(X_test_seq, maxlen=MAX_LEN)\n",
    "\n",
    "word_index = token.word_index"
   ]
  },
  {
   "cell_type": "code",
   "execution_count": 6,
   "id": "cf97b018-0181-495d-a42a-6e7f8867e45f",
   "metadata": {},
   "outputs": [
    {
     "name": "stderr",
     "output_type": "stream",
     "text": [
      "2196017it [02:42, 13541.62it/s]"
     ]
    },
    {
     "name": "stdout",
     "output_type": "stream",
     "text": [
      "Found 2196016 word vectors.\n"
     ]
    },
    {
     "name": "stderr",
     "output_type": "stream",
     "text": [
      "\n"
     ]
    }
   ],
   "source": [
    "# Load the pretrained GloVe vectors in a dictionary\n",
    "embeddings_index = {}\n",
    "\n",
    "with open('glove.840B.300d.txt', 'r', encoding='utf-8') as f:\n",
    "    for line in tqdm(f):\n",
    "        values = line.split(' ')\n",
    "        word = values[0]\n",
    "        coeffs = np.asarray([float(val) for val in values[1:]])\n",
    "        embeddings_index[word] = coeffs\n",
    "\n",
    "print(f'Found {len(embeddings_index)} word vectors.')"
   ]
  },
  {
   "cell_type": "code",
   "execution_count": 7,
   "id": "936eb975-2459-4aa1-a1b9-9824e7edd359",
   "metadata": {},
   "outputs": [
    {
     "name": "stderr",
     "output_type": "stream",
     "text": [
      "100%|██████████| 476854/476854 [00:00<00:00, 811205.70it/s]"
     ]
    },
    {
     "name": "stdout",
     "output_type": "stream",
     "text": [
      "Wall time: 590 ms\n"
     ]
    },
    {
     "name": "stderr",
     "output_type": "stream",
     "text": [
      "\n"
     ]
    }
   ],
   "source": [
    "%%time\n",
    "# Create an embedding matrix only for the words we have in our corpus\n",
    "embedding_matrix = np.zeros((len(word_index) + 1, DIMENSIONS))\n",
    "\n",
    "for word, i in tqdm(word_index.items()):\n",
    "    embedding_vector = embeddings_index.get(word)\n",
    "    if embedding_vector is not None:\n",
    "        embedding_matrix[i] = embedding_vector"
   ]
  },
  {
   "cell_type": "code",
   "execution_count": 8,
   "id": "cec01dad-8b23-4d8c-a154-fcbaa23aead2",
   "metadata": {},
   "outputs": [
    {
     "name": "stdout",
     "output_type": "stream",
     "text": [
      "Wall time: 0 ns\n"
     ]
    }
   ],
   "source": [
    "# Define gunction for creating and compiling the ANN\n",
    "def create_and_compile_model(vocab_length=len(word_index)+1): \n",
    "    \"\"\"\n",
    "    Creates and compiles model with embedding layer, dropout\n",
    "\n",
    "    Args:\n",
    "        vocab_length (int): size of the vocabulary\n",
    "\n",
    "    Returns:\n",
    "        model: sequential model with embedding layer\n",
    "    \"\"\"\n",
    "    \n",
    "    model = Sequential([Embedding(vocab_length,\n",
    "                                  DIMENSIONS,\n",
    "                                  weights=[embedding_matrix],\n",
    "                                  input_length=MAX_LEN,\n",
    "                                  trainable=False),\n",
    "                        SpatialDropout1D(0.3),\n",
    "                        Bidirectional(GRU(DIMENSIONS)),\n",
    "                        Dense(3, activation='softmax')])\n",
    "    \n",
    "    model.compile(loss=tf.keras.losses.SparseCategoricalCrossentropy(),\n",
    "                  optimizer=tf.keras.optimizers.Adam(learning_rate=LR),\n",
    "                  metrics=tf.keras.metrics.SparseCategoricalAccuracy()) \n",
    " \n",
    "    return model"
   ]
  },
  {
   "cell_type": "code",
   "execution_count": 10,
   "id": "da35410f-7ce2-47f5-8ba3-fc01faf89500",
   "metadata": {},
   "outputs": [
    {
     "name": "stdout",
     "output_type": "stream",
     "text": [
      "Model: \"sequential\"\n",
      "_________________________________________________________________\n",
      " Layer (type)                Output Shape              Param #   \n",
      "=================================================================\n",
      " embedding (Embedding)       (None, 512, 300)          143056500 \n",
      "                                                                 \n",
      " spatial_dropout1d (SpatialD  (None, 512, 300)         0         \n",
      " ropout1D)                                                       \n",
      "                                                                 \n",
      " bidirectional (Bidirectiona  (None, 600)              1083600   \n",
      " l)                                                              \n",
      "                                                                 \n",
      " dense (Dense)               (None, 3)                 1803      \n",
      "                                                                 \n",
      "=================================================================\n",
      "Total params: 144,141,903\n",
      "Trainable params: 1,085,403\n",
      "Non-trainable params: 143,056,500\n",
      "_________________________________________________________________\n"
     ]
    }
   ],
   "source": [
    "embeddings_clf = create_and_compile_model()\n",
    "embeddings_clf.summary()"
   ]
  },
  {
   "cell_type": "code",
   "execution_count": 11,
   "id": "08429840",
   "metadata": {},
   "outputs": [],
   "source": [
    "# Early stopping callback\n",
    "early_stopping = EarlyStopping(monitor='val_sparse_categorical_accuracy', patience=2, min_delta=0.001, mode='max', restore_best_weights=True)"
   ]
  },
  {
   "cell_type": "code",
   "execution_count": 13,
   "id": "4547d24e-d6a7-45dd-91ae-1689f3baabbb",
   "metadata": {},
   "outputs": [
    {
     "name": "stdout",
     "output_type": "stream",
     "text": [
      "Epoch 1/10\n",
      "1847/1847 [==============================] - 286s 149ms/step - loss: 0.6194 - sparse_categorical_accuracy: 0.7464 - val_loss: 0.5444 - val_sparse_categorical_accuracy: 0.7737\n",
      "Epoch 2/10\n",
      "1847/1847 [==============================] - 276s 149ms/step - loss: 0.5309 - sparse_categorical_accuracy: 0.7824 - val_loss: 0.5287 - val_sparse_categorical_accuracy: 0.7860\n",
      "Epoch 3/10\n",
      "1847/1847 [==============================] - 276s 149ms/step - loss: 0.4932 - sparse_categorical_accuracy: 0.7977 - val_loss: 0.4938 - val_sparse_categorical_accuracy: 0.7971\n",
      "Epoch 4/10\n",
      "1847/1847 [==============================] - 275s 149ms/step - loss: 0.4611 - sparse_categorical_accuracy: 0.8119 - val_loss: 0.5059 - val_sparse_categorical_accuracy: 0.7933\n",
      "Epoch 5/10\n",
      "1847/1847 [==============================] - 276s 149ms/step - loss: 0.4292 - sparse_categorical_accuracy: 0.8261 - val_loss: 0.5036 - val_sparse_categorical_accuracy: 0.7961\n"
     ]
    }
   ],
   "source": [
    "history = embeddings_clf.fit(X_train_pad, y_train, epochs=EPOCHS, validation_split=0.1, batch_size=BATCH_SIZE,  callbacks=[early_stopping])"
   ]
  },
  {
   "cell_type": "code",
   "execution_count": 14,
   "id": "e9ccbc1b",
   "metadata": {},
   "outputs": [],
   "source": [
    "#embeddings_clf.save(OUTPUT_DATA + 'embeddings_classifier_bidirectGRU512.h5')"
   ]
  },
  {
   "cell_type": "code",
   "execution_count": null,
   "id": "2168aac5",
   "metadata": {},
   "outputs": [],
   "source": [
    "#tf.keras.models.load_model('embeddings_classifier.h5')"
   ]
  },
  {
   "cell_type": "code",
   "execution_count": 15,
   "id": "372ed58b-0d9f-4bcd-83da-1e5d6c2c6d87",
   "metadata": {},
   "outputs": [
    {
     "name": "stdout",
     "output_type": "stream",
     "text": [
      "AUC: 0.752\n",
      "Wall time: 1min\n"
     ]
    }
   ],
   "source": [
    "y_preds = embeddings_clf.predict(X_test_pad)\n",
    "y_test_ohe = to_categorical(y_test, 3)\n",
    "print(f'AUC: {roc_auc_score(y_test_ohe, tf.math.round(y_preds)):.3f}')"
   ]
  },
  {
   "cell_type": "code",
   "execution_count": 17,
   "id": "085a8fd3-52e4-49e7-974a-ec882bf67468",
   "metadata": {},
   "outputs": [
    {
     "name": "stdout",
     "output_type": "stream",
     "text": [
      "              precision    recall  f1-score   support\n",
      "\n",
      "           0       0.77      0.78      0.77     13271\n",
      "           1       0.53      0.27      0.35      8738\n",
      "           2       0.84      0.94      0.89     34258\n",
      "\n",
      "    accuracy                           0.80     56267\n",
      "   macro avg       0.71      0.66      0.67     56267\n",
      "weighted avg       0.77      0.80      0.78     56267\n",
      "\n"
     ]
    }
   ],
   "source": [
    "print(classification_report(y_test, tf.math.argmax(y_preds, axis=1)))"
   ]
  },
  {
   "cell_type": "code",
   "execution_count": 18,
   "id": "94e4d8b0-b2ef-4c23-abd1-1f4dbde7c7bd",
   "metadata": {},
   "outputs": [
    {
     "data": {
      "image/png": "[encoded data removed]",
      "text/plain": [
       "<Figure size 432x288 with 2 Axes>"
      ]
     },
     "metadata": {
      "needs_background": "light"
     },
     "output_type": "display_data"
    }
   ],
   "source": [
    "cm = confusion_matrix(y_test, tf.math.argmax(y_preds, axis=1), labels=[0,1,2])\n",
    "disp = ConfusionMatrixDisplay(confusion_matrix=cm, display_labels=['Negative', 'Neutral', 'Positive'])\n",
    "disp.plot()\n",
    "plt.show()"
   ]
  },
  {
   "cell_type": "markdown",
   "id": "6c8b136d-7624-4664-bdff-ad5e9d1d7585",
   "metadata": {},
   "source": [
    "## 3. Modelling with transformers"
   ]
  },
  {
   "cell_type": "code",
   "execution_count": 5,
   "id": "1c93edd6",
   "metadata": {},
   "outputs": [],
   "source": [
    "SHAPE = 256\n",
    "MODEL_NAME = \"distilbert-base-uncased\""
   ]
  },
  {
   "cell_type": "code",
   "execution_count": 6,
   "id": "5cefebc0",
   "metadata": {},
   "outputs": [],
   "source": [
    "# Tokenizer\n",
    "dbert_tokenizer = DistilBertTokenizer.from_pretrained(MODEL_NAME, do_lower_case=True)"
   ]
  },
  {
   "cell_type": "code",
   "execution_count": 7,
   "id": "cb2dd101",
   "metadata": {},
   "outputs": [],
   "source": [
    "def tokenize(sentences, tokenizer, max_length=SHAPE):\n",
    "    \"\"\"\n",
    "    Tokenization with Distil BERT tokenizer\n",
    "\n",
    "    Args:\n",
    "        sentences (string): textual data\n",
    "        tokenizer: name of the tokenizer\n",
    "        max_length (int): max length of the text. Defaults to 256. ! BERT takes maximum of 512.\n",
    "\n",
    "    Returns:\n",
    "        input_ids (np.ndarray): token indexes\n",
    "        input_masks (np.ndarray): token masks\n",
    "        input_segments (np.ndarray): token segments\n",
    "        \n",
    "    \"\"\"\n",
    "    input_ids, input_masks, input_segments = [], [], []\n",
    "    \n",
    "    for sentence in tqdm(sentences):\n",
    "        inputs = tokenizer.encode_plus(sentence, add_special_tokens=True, max_length=max_length, pad_to_max_length=True, \n",
    "                                             return_attention_mask=True, return_token_type_ids=True)\n",
    "        input_ids.append(inputs['input_ids'])\n",
    "        input_masks.append(inputs['attention_mask'])\n",
    "        input_segments.append(inputs['token_type_ids'])        \n",
    "    \n",
    "    return np.asarray(input_ids, dtype='int32'), np.asarray(input_masks, dtype='int32'), np.asarray(input_segments, dtype='int32') # input segments could be not returned as well"
   ]
  },
  {
   "cell_type": "code",
   "execution_count": 10,
   "id": "07068da2",
   "metadata": {},
   "outputs": [
    {
     "name": "stderr",
     "output_type": "stream",
     "text": [
      "  0%|          | 0/131287 [00:00<?, ?it/s]Truncation was not explicitly activated but `max_length` is provided a specific value, please use `truncation=True` to explicitly truncate examples to max length. Defaulting to 'longest_first' truncation strategy. If you encode pairs of sequences (GLUE-style) with the tokenizer you can select this strategy more precisely by providing a specific strategy to `truncation`.\n",
      "e:\\Docs\\Projects\\python\\tensaflow\\.tf-nb\\lib\\site-packages\\transformers\\tokenization_utils_base.py:2226: FutureWarning: The `pad_to_max_length` argument is deprecated and will be removed in a future version, use `padding=True` or `padding='longest'` to pad to the longest sequence in the batch, or use `padding='max_length'` to pad to a max length. In this case, you can give a specific length with `max_length` (e.g. `max_length=45`) or leave max_length to None to pad to the maximal input size of the model (e.g. 512 for Bert).\n",
      "  warnings.warn(\n",
      "100%|██████████| 131287/131287 [04:42<00:00, 464.00it/s]\n",
      "100%|██████████| 56267/56267 [01:59<00:00, 471.26it/s]\n"
     ]
    }
   ],
   "source": [
    "train_input_ids, train_input_masks, _ = tokenize(X_train.values, dbert_tokenizer)\n",
    "test_input_ids, test_input_masks, _ = tokenize(X_test.values, dbert_tokenizer)"
   ]
  },
  {
   "cell_type": "code",
   "execution_count": 13,
   "id": "b0848916",
   "metadata": {},
   "outputs": [
    {
     "name": "stderr",
     "output_type": "stream",
     "text": [
      "Some layers from the model checkpoint at distilbert-base-uncased were not used when initializing TFDistilBertModel: ['vocab_layer_norm', 'activation_13', 'vocab_transform', 'vocab_projector']\n",
      "- This IS expected if you are initializing TFDistilBertModel from the checkpoint of a model trained on another task or with another architecture (e.g. initializing a BertForSequenceClassification model from a BertForPreTraining model).\n",
      "- This IS NOT expected if you are initializing TFDistilBertModel from the checkpoint of a model that you expect to be exactly identical (initializing a BertForSequenceClassification model from a BertForSequenceClassification model).\n",
      "All the layers of TFDistilBertModel were initialized from the model checkpoint at distilbert-base-uncased.\n",
      "If your task is similar to the task the model of the checkpoint was trained on, you can already use TFDistilBertModel for predictions without further training.\n"
     ]
    }
   ],
   "source": [
    "# Model\n",
    "dbert_model = TFDistilBertModel.from_pretrained(MODEL_NAME, output_hidden_states=False)"
   ]
  },
  {
   "cell_type": "code",
   "execution_count": 11,
   "id": "bd369680",
   "metadata": {},
   "outputs": [],
   "source": [
    "# Functional API\n",
    "def bert_seq_clf_w_lstm(transformer_model):\n",
    "  \"\"\"\n",
    "  Creates and compiles tf/keras model with transformer model on the top, used as a feature extractor\n",
    "\n",
    "  Args:\n",
    "      transformer_model: name of the imported transformers model for feature extraction\n",
    "\n",
    "  Returns:\n",
    "      model: keras model\n",
    "  \"\"\"\n",
    "  input_ids_in = tf.keras.layers.Input(shape=(SHAPE,), name='input_token', dtype='int32')\n",
    "  input_masks_in = tf.keras.layers.Input(shape=(SHAPE,), name='masked_token', dtype='int32') \n",
    "    \n",
    "  embedding_layer = transformer_model(train_input_ids, attention_mask=train_input_masks)[0]\n",
    "  X = tf.keras.layers.Bidirectional(tf.keras.layers.LSTM(64, return_sequences=True, dropout=0.1))(embedding_layer)\n",
    "  X = tf.keras.layers.GlobalMaxPool1D()(X)\n",
    "  X = tf.keras.layers.Dense(64, activation='relu')(X)\n",
    "  X = tf.keras.layers.Dropout(0.2)(X)\n",
    "  X = tf.keras.layers.Dense(3, activation='softmax')(X)\n",
    "  model = tf.keras.Model(inputs=[input_ids_in, input_masks_in], outputs = X)\n",
    "\n",
    "  for layer in model.layers[:3]:\n",
    "    layer.trainable = False\n",
    "    \n",
    "  model.compile(loss=tf.keras.losses.SparseCategoricalCrossentropy(), #from_logits=True),\n",
    "                optimizer=tf.keras.optimizers.Adam(learning_rate=3e-4, epsilon=1e-08, clipnorm=1.0),\n",
    "                metrics=tf.keras.metrics.SparseCategoricalAccuracy())\n",
    "    \n",
    "  return model"
   ]
  },
  {
   "cell_type": "code",
   "execution_count": 14,
   "id": "fdb0726b",
   "metadata": {},
   "outputs": [
    {
     "name": "stdout",
     "output_type": "stream",
     "text": [
      "Model: \"model\"\n",
      "__________________________________________________________________________________________________\n",
      " Layer (type)                   Output Shape         Param #     Connected to                     \n",
      "==================================================================================================\n",
      " input_token (InputLayer)       [(None, 256)]        0           []                               \n",
      "                                                                                                  \n",
      " masked_token (InputLayer)      [(None, 256)]        0           []                               \n",
      "                                                                                                  \n",
      " tf_distil_bert_model (TFDistil  TFBaseModelOutput(l  66362880   ['input_token[0][0]',            \n",
      " BertModel)                     ast_hidden_state=(N               'masked_token[0][0]']           \n",
      "                                one, 256, 768),                                                   \n",
      "                                 hidden_states=None                                               \n",
      "                                , attentions=None)                                                \n",
      "                                                                                                  \n",
      " bidirectional (Bidirectional)  (None, 256, 128)     426496      ['tf_distil_bert_model[0][0]']   \n",
      "                                                                                                  \n",
      " global_max_pooling1d (GlobalMa  (None, 128)         0           ['bidirectional[0][0]']          \n",
      " xPooling1D)                                                                                      \n",
      "                                                                                                  \n",
      " dense (Dense)                  (None, 64)           8256        ['global_max_pooling1d[0][0]']   \n",
      "                                                                                                  \n",
      " dropout_19 (Dropout)           (None, 64)           0           ['dense[0][0]']                  \n",
      "                                                                                                  \n",
      " dense_1 (Dense)                (None, 3)            195         ['dropout_19[0][0]']             \n",
      "                                                                                                  \n",
      "==================================================================================================\n",
      "Total params: 66,797,827\n",
      "Trainable params: 434,947\n",
      "Non-trainable params: 66,362,880\n",
      "__________________________________________________________________________________________________\n"
     ]
    }
   ],
   "source": [
    "dbert_clf_w_lstm = bert_seq_clf_w_lstm(transformer_model=dbert_model)\n",
    "dbert_clf_w_lstm.summary()"
   ]
  },
  {
   "cell_type": "code",
   "execution_count": 15,
   "id": "2c63d45e",
   "metadata": {},
   "outputs": [],
   "source": [
    "# Define some callbacks\n",
    "early_stop = tf.keras.callbacks.EarlyStopping(patience=3, verbose=1, restore_best_weights=True)\n",
    "lr_on_pla = tf.keras.callbacks.ReduceLROnPlateau(patience=2)"
   ]
  },
  {
   "cell_type": "code",
   "execution_count": 16,
   "id": "51919195",
   "metadata": {},
   "outputs": [
    {
     "name": "stdout",
     "output_type": "stream",
     "text": [
      "Epoch 1/5\n"
     ]
    },
    {
     "name": "stderr",
     "output_type": "stream",
     "text": [
      "e:\\Docs\\Projects\\python\\tensaflow\\.tf-nb\\lib\\site-packages\\tensorflow\\python\\util\\dispatch.py:1096: UserWarning: \"`sparse_categorical_crossentropy` received `from_logits=True`, but the `output` argument was produced by a sigmoid or softmax activation and thus does not represent logits. Was this intended?\"\n",
      "  return dispatch_target(*args, **kwargs)\n"
     ]
    },
    {
     "name": "stdout",
     "output_type": "stream",
     "text": [
      "1847/1847 [==============================] - 1722s 928ms/step - loss: 0.6282 - sparse_categorical_accuracy: 0.7403 - val_loss: 0.5620 - val_sparse_categorical_accuracy: 0.7698 - lr: 3.0000e-04\n",
      "Epoch 2/5\n",
      "1847/1847 [==============================] - 1664s 901ms/step - loss: 0.5582 - sparse_categorical_accuracy: 0.7702 - val_loss: 0.5412 - val_sparse_categorical_accuracy: 0.7784 - lr: 3.0000e-04\n",
      "Epoch 3/5\n",
      "1847/1847 [==============================] - 1706s 924ms/step - loss: 0.5345 - sparse_categorical_accuracy: 0.7801 - val_loss: 0.5221 - val_sparse_categorical_accuracy: 0.7880 - lr: 3.0000e-04\n",
      "Epoch 4/5\n",
      "1847/1847 [==============================] - 1688s 914ms/step - loss: 0.5157 - sparse_categorical_accuracy: 0.7882 - val_loss: 0.5147 - val_sparse_categorical_accuracy: 0.7921 - lr: 3.0000e-04\n",
      "Epoch 5/5\n",
      "1847/1847 [==============================] - 1689s 914ms/step - loss: 0.4996 - sparse_categorical_accuracy: 0.7956 - val_loss: 0.5083 - val_sparse_categorical_accuracy: 0.7932 - lr: 3.0000e-04\n"
     ]
    }
   ],
   "source": [
    "history = dbert_clf_w_lstm.fit([train_input_ids, train_input_masks],\n",
    "                                y_train,\n",
    "                                validation_split=0.1, \n",
    "                                epochs=5,\n",
    "                                batch_size=BATCH_SIZE,\n",
    "                                callbacks=[early_stop, lr_on_pla])"
   ]
  },
  {
   "cell_type": "code",
   "execution_count": 20,
   "id": "3dc7f0f5",
   "metadata": {},
   "outputs": [],
   "source": [
    "#dbert_clf_w_lstm.save(OUTPUT_DATA + 'dbert_lstm_func_api.h5')"
   ]
  },
  {
   "cell_type": "markdown",
   "id": "6dff8eca",
   "metadata": {},
   "source": [
    "#### Same could be done via subclassing, but this type of model are not serializable"
   ]
  },
  {
   "cell_type": "code",
   "execution_count": 17,
   "id": "48076727",
   "metadata": {},
   "outputs": [],
   "source": [
    "# Subclassing\n",
    "class TransformerWithRNN(tf.keras.Model):\n",
    "    \n",
    "    def __init__(self, transformer, num_classes=3, lstm=True):\n",
    "        super(TransformerWithRNN, self).__init__()\n",
    "        self.is_lstm = lstm\n",
    "        self.transformer_model = transformer\n",
    "        if self.is_lstm:\n",
    "            self.b_lstm1 = tf.keras.layers.Bidirectional(tf.keras.layers.LSTM(64, return_sequences=True, dropout=0.1))\n",
    "        else:\n",
    "            self.b_gru1 = tf.keras.layers.Bidirectional(tf.keras.layers.GRU(64, return_sequences=True, dropout=0.1))\n",
    "        self.maxpool = tf.keras.layers.GlobalMaxPool1D()\n",
    "        self.dense1 = tf.keras.layers.Dense(64, activation='relu')\n",
    "        self.dropout = tf.keras.layers.Dropout(0.2)\n",
    "        self.dense2 = tf.keras.layers.Dense(num_classes, activation='softmax')\n",
    "    \n",
    "    def call(self, inputs):\n",
    "        inputs_ids = inputs[0]\n",
    "        inputs_mask = inputs[1]\n",
    "        x = self.transformer_model(inputs_ids, attention_mask=inputs_mask)[0]\n",
    "        if self.is_lstm:\n",
    "            x = self.b_lstm1(x)\n",
    "        else:\n",
    "            x = self.b_gru1(x)\n",
    "        x = self.maxpool(x)\n",
    "        x = self.dense1(x)\n",
    "        x = self.dropout(x)\n",
    "        \n",
    "        return self.dense2(x) "
   ]
  },
  {
   "cell_type": "code",
   "execution_count": 18,
   "id": "e2883bab",
   "metadata": {},
   "outputs": [],
   "source": [
    "dbert_with_lstm = TransformerWithRNN(transformer = dbert_model)\n",
    "dbert_with_lstm.compile(loss=tf.keras.losses.SparseCategoricalCrossentropy(),\n",
    "                        optimizer=tf.keras.optimizers.Adam(learning_rate=3e-4),\n",
    "                        metrics=tf.keras.metrics.SparseCategoricalAccuracy())"
   ]
  },
  {
   "cell_type": "code",
   "execution_count": 19,
   "id": "938b11f1",
   "metadata": {},
   "outputs": [
    {
     "name": "stdout",
     "output_type": "stream",
     "text": [
      "Epoch 1/5\n",
      "2052/2052 [==============================] - 1759s 854ms/step - loss: 0.6192 - sparse_categorical_accuracy: 0.7442\n",
      "Epoch 2/5\n",
      "2052/2052 [==============================] - 1838s 896ms/step - loss: 0.5541 - sparse_categorical_accuracy: 0.7710\n",
      "Epoch 3/5\n",
      "2052/2052 [==============================] - 1827s 890ms/step - loss: 0.5282 - sparse_categorical_accuracy: 0.7834\n",
      "Epoch 4/5\n",
      "2052/2052 [==============================] - 1744s 850ms/step - loss: 0.5105 - sparse_categorical_accuracy: 0.7902\n",
      "Epoch 5/5\n",
      "2052/2052 [==============================] - 1802s 878ms/step - loss: 0.4951 - sparse_categorical_accuracy: 0.7971\n"
     ]
    },
    {
     "data": {
      "text/plain": [
       "<keras.callbacks.History at 0x1bf8fca2d00>"
      ]
     },
     "execution_count": 19,
     "metadata": {},
     "output_type": "execute_result"
    }
   ],
   "source": [
    "dbert_with_lstm.fit([train_input_ids, train_input_masks], y_train, epochs=5, batch_size=BATCH_SIZE)"
   ]
  },
  {
   "cell_type": "code",
   "execution_count": 22,
   "id": "2c41cd21",
   "metadata": {},
   "outputs": [
    {
     "name": "stdout",
     "output_type": "stream",
     "text": [
      "Model: \"transformer_with_rnn\"\n",
      "_________________________________________________________________\n",
      " Layer (type)                Output Shape              Param #   \n",
      "=================================================================\n",
      " tf_distil_bert_model (TFDis  TFBaseModelOutput(last_h  66362880 \n",
      " tilBertModel)               idden_state=(None, 256,             \n",
      "                             768),                               \n",
      "                              hidden_states=None, att            \n",
      "                             entions=None)                       \n",
      "                                                                 \n",
      " bidirectional_1 (Bidirectio  multiple                 426496    \n",
      " nal)                                                            \n",
      "                                                                 \n",
      " global_max_pooling1d_1 (Glo  multiple                 0         \n",
      " balMaxPooling1D)                                                \n",
      "                                                                 \n",
      " dense_2 (Dense)             multiple                  8256      \n",
      "                                                                 \n",
      " dropout_20 (Dropout)        multiple                  0         \n",
      "                                                                 \n",
      " dense_3 (Dense)             multiple                  195       \n",
      "                                                                 \n",
      "=================================================================\n",
      "Total params: 66,797,827\n",
      "Trainable params: 434,947\n",
      "Non-trainable params: 66,362,880\n",
      "_________________________________________________________________\n"
     ]
    }
   ],
   "source": [
    "dbert_with_lstm.summary()"
   ]
  },
  {
   "cell_type": "code",
   "execution_count": 24,
   "id": "6333ec5d",
   "metadata": {},
   "outputs": [],
   "source": [
    "# The model can not be saved, but only the weights\n",
    "#dbert_with_lstm.save_weights(OUTPUT_DATA + '/dbert_lstm_class_api/', save_format='tf')"
   ]
  },
  {
   "cell_type": "markdown",
   "id": "4fdb78a4",
   "metadata": {},
   "source": [
    "## Conclusions:\n",
    "- There is indeed a lot of potential to tune the models, experiment with hyperparameters, model architecture, size, etc.\n",
    "- With length of 512 the model could yield potentially much higher results, but it takes more computational time"
   ]
  }
 ],
 "metadata": {
  "interpreter": {
   "hash": "f25c76208033f4cd3919158bdb0582833eaef8e40f5bf80d0af588fcbca34179"
  },
  "kernelspec": {
   "display_name": "Python 3 (ipykernel)",
   "language": "python",
   "name": "python3"
  },
  "language_info": {
   "codemirror_mode": {
    "name": "ipython",
    "version": 3
   },
   "file_extension": ".py",
   "mimetype": "text/x-python",
   "name": "python",
   "nbconvert_exporter": "python",
   "pygments_lexer": "ipython3",
   "version": "3.9.12"
  }
 },
 "nbformat": 4,
 "nbformat_minor": 5
}
